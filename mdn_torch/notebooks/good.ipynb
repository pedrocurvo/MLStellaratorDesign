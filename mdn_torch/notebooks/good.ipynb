{
 "cells": [
  {
   "cell_type": "code",
   "execution_count": 10,
   "metadata": {},
   "outputs": [
    {
     "name": "stdout",
     "output_type": "stream",
     "text": [
      "20.26696345669621\n"
     ]
    }
   ],
   "source": [
    "import numpy as np\n",
    "import pandas as pd\n",
    "\n",
    "# Read the data\n",
    "# df1 = pd.read_csv('../data/1_dataset/first_good_stels.csv')\n",
    "# df1_all = pd.read_csv('../data/1_dataset/first_dataset.csv')\n",
    "# df2 = pd.read_csv('../data/2_dataset/second_good_stels.csv')\n",
    "# df2_all = pd.read_csv('../data/2_dataset/second_dataset.csv')\n",
    "# df3 = pd.read_csv('../data/3_dataset/third_good_stels.csv')\n",
    "# df3_all = pd.read_csv('../data/3_dataset/third_dataset.csv')\n",
    "# df4 = pd.read_csv('../data/4_dataset/fourth_good_stels.csv')\n",
    "# df4_all = pd.read_csv('../data/4_dataset/fourth_dataset.csv')\n",
    "# df5 = pd.read_csv('../data/5_dataset/fifth_good_stels.csv')\n",
    "# df5_all = pd.read_csv('../data/5_dataset/fifth_dataset.csv')\n",
    "df6 = pd.read_csv('../data/6_dataset/sixth_good_stels.csv')\n",
    "df6_all = pd.read_csv('../data/6_dataset/sixth_dataset.csv')\n",
    "\n",
    "# # Print the shape of the data\n",
    "# print(df1.shape[0] / df1_all.shape[0] * 100)\n",
    "# print(df2.shape[0] / df2_all.shape[0] * 100)\n",
    "# print(df3.shape[0] / df3_all.shape[0] * 100)\n",
    "# print(df4.shape[0] / df4_all.shape[0] * 100)\n",
    "# print(df5.shape[0] / df5_all.shape[0] * 100)\n",
    "print((df6.shape[0] + 250000) / df6_all.shape[0] * 100)"
   ]
  }
 ],
 "metadata": {
  "kernelspec": {
   "display_name": "Python 3",
   "language": "python",
   "name": "python3"
  },
  "language_info": {
   "codemirror_mode": {
    "name": "ipython",
    "version": 3
   },
   "file_extension": ".py",
   "mimetype": "text/x-python",
   "name": "python",
   "nbconvert_exporter": "python",
   "pygments_lexer": "ipython3",
   "version": "3.11.9"
  }
 },
 "nbformat": 4,
 "nbformat_minor": 2
}
